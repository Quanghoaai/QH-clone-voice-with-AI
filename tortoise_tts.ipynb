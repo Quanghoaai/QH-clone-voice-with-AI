!git clone https://github.com/neonbjb/tortoise-tts.git
%cd tortoise-tts
!pip3 install -r requirements.txt
!python3 setup.py install
